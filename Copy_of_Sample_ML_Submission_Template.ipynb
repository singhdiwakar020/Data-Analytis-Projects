{
  "nbformat": 4,
  "nbformat_minor": 0,
  "metadata": {
    "colab": {
      "private_outputs": true,
      "provenance": [],
      "collapsed_sections": [
        "FJNUwmbgGyua",
        "3RnN4peoiCZX",
        "x71ZqKXriCWQ",
        "7hBIi_osiCS2",
        "JlHwYmJAmNHm",
        "35m5QtbWiB9F",
        "PoPl-ycgm1ru",
        "H0kj-8xxnORC",
        "nA9Y7ga8ng1Z",
        "PBTbrJXOngz2",
        "-JiQyfWJYklI",
        "fge-S5ZAYoAp",
        "RoGjAbkUYoAp",
        "F6T5p64dYrdO",
        "y-Ehk30pYrdP",
        "GwzvFGzlYuh3",
        "qYpmQ266Yuh3"
      ],
      "gpuType": "T4",
      "cell_execution_strategy": "setup",
      "include_colab_link": true
    },
    "kernelspec": {
      "name": "python3",
      "display_name": "Python 3"
    },
    "language_info": {
      "name": "python"
    },
    "accelerator": "GPU"
  },
  "cells": [
    {
      "cell_type": "markdown",
      "metadata": {
        "id": "view-in-github",
        "colab_type": "text"
      },
      "source": [
        "<a href=\"https://colab.research.google.com/github/singhdiwakar020/Data-Analytis-Projects/blob/main/Copy_of_Sample_ML_Submission_Template.ipynb\" target=\"_parent\"><img src=\"https://colab.research.google.com/assets/colab-badge.svg\" alt=\"Open In Colab\"/></a>"
      ]
    },
    {
      "cell_type": "markdown",
      "source": [
        "# **Project Name**    - Bike Sharing Demand Prediction\n",
        "\n"
      ],
      "metadata": {
        "id": "vncDsAP0Gaoa"
      }
    },
    {
      "cell_type": "markdown",
      "source": [
        "##### **Project Type**    - Regression\n",
        "##### **Contribution**    - Individual\n"
      ],
      "metadata": {
        "id": "beRrZCGUAJYm"
      }
    },
    {
      "cell_type": "code",
      "source": [
        "from google.colab import drive\n",
        "drive.mount('/content/drive')"
      ],
      "metadata": {
        "id": "IlwJ9mb5rhXj"
      },
      "execution_count": null,
      "outputs": []
    },
    {
      "cell_type": "markdown",
      "source": [
        "# **Project Summary -**"
      ],
      "metadata": {
        "id": "FJNUwmbgGyua"
      }
    },
    {
      "cell_type": "markdown",
      "source": [
        "# Bike-sharing demand prediction is the process of estimating how many bikes will be rented from a bike-sharing system at a given time. This prediction is based on factors like the day of the week, weather, and time of day.\n",
        "Here are some factors that can affect bike-sharing demand:\n",
        "Day of the week: Registered users tend to demand more bikes on weekdays than on weekends or holidays.\n",
        "Weather: Demand for bikes is lower on rainy days and when humidity is higher.\n",
        "Time of day: The number of bikes required at each hour is crucial for a stable supply of rental bikes.\n",
        "Some datasets for bike-sharing demand prediction include:\n",
        "Weather information, such as temperature, humidity, windspeed, visibility, dewpoint, solar radiation, snowfall, and rainfall\n",
        "The number of bikes rented per hour Date **information**\n"
      ],
      "metadata": {
        "id": "F6v_1wHtG2nS"
      }
    },
    {
      "cell_type": "markdown",
      "source": [
        "# **GitHub Link -**"
      ],
      "metadata": {
        "id": "w6K7xa23Elo4"
      }
    },
    {
      "cell_type": "markdown",
      "source": [
        "Provide your GitHub Link here."
      ],
      "metadata": {
        "id": "h1o69JH3Eqqn"
      }
    },
    {
      "cell_type": "markdown",
      "source": [
        "# **Problem Statement**\n"
      ],
      "metadata": {
        "id": "yQaldy8SH6Dl"
      }
    },
    {
      "cell_type": "markdown",
      "source": [
        "Currently Rental bikes are introduced in many urban cities for the enhancement of mobility comfort. It is important to make the rental bike available and accessible to the public at the right time as it lessens the waiting time. Eventually, providing the city with a stable supply of rental bikes becomes a major concern. The crucial part is the prediction of bike count required at each hour for the stable supply of rental bikes.\n"
      ],
      "metadata": {
        "id": "DpeJGUA3kjGy"
      }
    },
    {
      "cell_type": "markdown",
      "source": [
        "# **General Guidelines** : -  "
      ],
      "metadata": {
        "id": "mDgbUHAGgjLW"
      }
    },
    {
      "cell_type": "markdown",
      "source": [
        "1.   Well-structured, formatted, and commented code is required.\n",
        "2.   Exception Handling, Production Grade Code & Deployment Ready Code will be a plus. Those students will be awarded some additional credits.\n",
        "     \n",
        "     The additional credits will have advantages over other students during Star Student selection.\n",
        "       \n",
        "             [ Note: - Deployment Ready Code is defined as, the whole .ipynb notebook should be executable in one go\n",
        "                       without a single error logged. ]\n",
        "\n",
        "3.   Each and every logic should have proper comments.\n",
        "4. You may add as many number of charts you want. Make Sure for each and every chart the following format should be answered.\n",
        "        \n",
        "\n",
        "```\n",
        "# Chart visualization code\n",
        "```\n",
        "            \n",
        "\n",
        "*   Why did you pick the specific chart?\n",
        "*   What is/are the insight(s) found from the chart?\n",
        "* Will the gained insights help creating a positive business impact?\n",
        "Are there any insights that lead to negative growth? Justify with specific reason.\n",
        "\n",
        "5. You have to create at least 15 logical & meaningful charts having important insights.\n",
        "\n",
        "\n",
        "[ Hints : - Do the Vizualization in  a structured way while following \"UBM\" Rule.\n",
        "\n",
        "U - Univariate Analysis,\n",
        "\n",
        "B - Bivariate Analysis (Numerical - Categorical, Numerical - Numerical, Categorical - Categorical)\n",
        "\n",
        "M - Multivariate Analysis\n",
        " ]\n",
        "\n",
        "\n",
        "\n",
        "\n",
        "\n",
        "6. You may add more ml algorithms for model creation. Make sure for each and every algorithm, the following format should be answered.\n",
        "\n",
        "\n",
        "*   Explain the ML Model used and it's performance using Evaluation metric Score Chart.\n",
        "\n",
        "\n",
        "*   Cross- Validation & Hyperparameter Tuning\n",
        "\n",
        "*   Have you seen any improvement? Note down the improvement with updates Evaluation metric Score Chart.\n",
        "\n",
        "*   Explain each evaluation metric's indication towards business and the business impact pf the ML model used.\n",
        "\n",
        "\n",
        "\n",
        "\n",
        "\n",
        "\n",
        "\n",
        "\n",
        "\n",
        "\n",
        "\n",
        "\n",
        "\n",
        "\n",
        "\n",
        "\n",
        "\n",
        "\n"
      ],
      "metadata": {
        "id": "ZrxVaUj-hHfC"
      }
    },
    {
      "cell_type": "markdown",
      "source": [
        "# ***Let's Begin !***"
      ],
      "metadata": {
        "id": "O_i_v8NEhb9l"
      }
    },
    {
      "cell_type": "markdown",
      "source": [
        "## ***1. Know Your Data***"
      ],
      "metadata": {
        "id": "HhfV-JJviCcP"
      }
    },
    {
      "cell_type": "markdown",
      "source": [
        "### Import Libraries"
      ],
      "metadata": {
        "id": "Y3lxredqlCYt"
      }
    },
    {
      "cell_type": "code",
      "source": [
        "# Import Libraries\n",
        "#data visualization libraries(matplotlib,seaborn, plotly)\n",
        "import matplotlib.pyplot as plt\n",
        "%matplotlib inline\n",
        "import seaborn as sns\n",
        "sns.set_style(\"ticks\")\n",
        "sns.set_context(\"poster\");\n",
        "import plotly.express as px\n",
        "from scipy.stats import norm\n",
        "\n",
        "# Importing numpy, pandas and tensorflow\n",
        "import pandas as pd\n",
        "import numpy as np\n",
        "import tensorflow as tf\n",
        "\n",
        "# Z score\n",
        "# from scipy import stats          # was using to detect outliers\n",
        "\n",
        "\n",
        "# Datetime library for manipulating Date columns.\n",
        "from datetime import datetime\n",
        "import calendar\n",
        "\n",
        "# from sci-kit library scaling, transforming and labeling functions are brought\n",
        "# which is used to change raw feature vectors into a representation that is more\n",
        "# suitable for the downstream estimators.\n",
        "from sklearn.preprocessing import StandardScaler,MinMaxScaler\n",
        "from sklearn.preprocessing import  LabelEncoder\n",
        "\n",
        "# Importing various machine learning models.\n",
        "from sklearn.linear_model import Lasso, Ridge, LinearRegression, ElasticNet\n",
        "from sklearn.tree import DecisionTreeRegressor, ExtraTreeRegressor\n",
        "from sklearn.ensemble import RandomForestRegressor, GradientBoostingRegressor\n",
        "from sklearn.neighbors import KNeighborsRegressor\n",
        "from sklearn import neighbors\n",
        "from lightgbm import LGBMRegressor\n",
        "import lightgbm\n",
        "\n",
        "\n",
        "# XGB regressor.\n",
        "from xgboost import XGBRegressor\n",
        "\n",
        "#calculating VIF\n",
        "from statsmodels.stats.outliers_influence import variance_inflation_factor\n",
        "\n",
        "# spilitting data\n",
        "from sklearn.model_selection import train_test_split\n",
        "\n",
        "#for optimization\n",
        "from sklearn.model_selection import GridSearchCV\n",
        "from sklearn.model_selection import RandomizedSearchCV\n",
        "\n",
        "# Import different metrics from sci-kit libraries for model evaluation.\n",
        "from sklearn import metrics\n",
        "from sklearn.metrics import r2_score as r2\n",
        "from sklearn.metrics import mean_squared_error as mse\n",
        "from sklearn.metrics import mean_absolute_error\n",
        "\n",
        "\n",
        "# The following lines adjust the granularity of reporting.\n",
        "pd.options.display.max_rows = 50\n",
        "pd.options.display.float_format = \"{:.3f}\".format\n",
        "\n",
        "# Importing warnings library. The warnings module handles warnings in Python.\n",
        "import warnings\n",
        "warnings.filterwarnings('ignore')"
      ],
      "metadata": {
        "id": "M8Vqi-pPk-HR"
      },
      "execution_count": null,
      "outputs": []
    },
    {
      "cell_type": "markdown",
      "source": [
        "### Dataset Loading"
      ],
      "metadata": {
        "id": "3RnN4peoiCZX"
      }
    },
    {
      "cell_type": "code",
      "source": [
        "# Load Dataset\n",
        "import chardet"
      ],
      "metadata": {
        "id": "4PsxYu3-OdPQ"
      },
      "execution_count": null,
      "outputs": []
    },
    {
      "cell_type": "code",
      "source": [
        "\n",
        "\n",
        "# Use the detected encoding\n",
        "df = pd.read_csv('/content/drive/MyDrive/Colab Notebooks/SeoulBikeData.csv',encoding='ISO-8859-1')\n"
      ],
      "metadata": {
        "id": "QvEpNLIgOVCG"
      },
      "execution_count": null,
      "outputs": []
    },
    {
      "cell_type": "code",
      "source": [
        "\n"
      ],
      "metadata": {
        "id": "EQ974-nINGs4"
      },
      "execution_count": null,
      "outputs": []
    },
    {
      "cell_type": "markdown",
      "source": [
        "### Dataset First View"
      ],
      "metadata": {
        "id": "x71ZqKXriCWQ"
      }
    },
    {
      "cell_type": "code",
      "source": [
        "# Dataset First Look\n",
        "\n",
        "df.head()"
      ],
      "metadata": {
        "id": "LWNFOSvLl09H"
      },
      "execution_count": null,
      "outputs": []
    },
    {
      "cell_type": "markdown",
      "source": [
        "### Dataset Rows & Columns count"
      ],
      "metadata": {
        "id": "7hBIi_osiCS2"
      }
    },
    {
      "cell_type": "code",
      "source": [
        "# Dataset Rows & Columns count"
      ],
      "metadata": {
        "id": "Kllu7SJgmLij"
      },
      "execution_count": null,
      "outputs": []
    },
    {
      "cell_type": "code",
      "source": [
        "# Count the number of rows and columns\n",
        "num_rows, num_columns = df.shape\n",
        "\n",
        "print(f\"The DataFrame has {num_rows} rows and {num_columns} columns.\")"
      ],
      "metadata": {
        "id": "A1Zpa9yyxA_B"
      },
      "execution_count": null,
      "outputs": []
    },
    {
      "cell_type": "markdown",
      "source": [
        "### Dataset Information"
      ],
      "metadata": {
        "id": "JlHwYmJAmNHm"
      }
    },
    {
      "cell_type": "code",
      "source": [
        "# Dataset Info"
      ],
      "metadata": {
        "id": "e9hRXRi6meOf"
      },
      "execution_count": null,
      "outputs": []
    },
    {
      "cell_type": "code",
      "source": [
        "df.info()"
      ],
      "metadata": {
        "id": "O9J-_dQ04c4k"
      },
      "execution_count": null,
      "outputs": []
    },
    {
      "cell_type": "code",
      "source": [
        "df.describe(include='all')"
      ],
      "metadata": {
        "id": "Y8LxacbZ48xW"
      },
      "execution_count": null,
      "outputs": []
    },
    {
      "cell_type": "markdown",
      "source": [
        "#### Duplicate Values"
      ],
      "metadata": {
        "id": "35m5QtbWiB9F"
      }
    },
    {
      "cell_type": "code",
      "source": [
        "# Dataset Duplicate Value Count\n",
        "# Count duplicate rows\n",
        "num_duplicates = df.duplicated().sum()\n",
        "\n",
        "print(f\"There are {num_duplicates} duplicate rows in the DataFrame.\")"
      ],
      "metadata": {
        "id": "1sLdpKYkmox0"
      },
      "execution_count": null,
      "outputs": []
    },
    {
      "cell_type": "markdown",
      "source": [
        "#### Missing Values/Null Values"
      ],
      "metadata": {
        "id": "PoPl-ycgm1ru"
      }
    },
    {
      "cell_type": "code",
      "source": [
        "# Count missing values in each column\n",
        "missing_values = df.isnull().sum()\n"
      ],
      "metadata": {
        "id": "GgHWkxvamxVg"
      },
      "execution_count": null,
      "outputs": []
    },
    {
      "cell_type": "code",
      "source": [
        "print(\"Missing Values in Each Column:\")\n",
        "print(missing_values)"
      ],
      "metadata": {
        "id": "Vl93wepZ6FhF"
      },
      "execution_count": null,
      "outputs": []
    },
    {
      "cell_type": "code",
      "source": [
        "# Visualizing the missing values\n",
        "\n",
        "import pandas as pd\n",
        "import seaborn as sns\n",
        "import matplotlib.pyplot as plt\n",
        "\n",
        "# Create a heatmap to visualize missing values\n",
        "plt.figure(figsize=(10, 6))\n",
        "sns.heatmap(df.isnull(), cmap='viridis', cbar=False, yticklabels=False)\n",
        "\n",
        "plt.title('Missing Values Heatmap')\n",
        "plt.show()"
      ],
      "metadata": {
        "id": "3q5wnI3om9sJ"
      },
      "execution_count": null,
      "outputs": []
    },
    {
      "cell_type": "markdown",
      "source": [
        "### What did you know about your dataset?"
      ],
      "metadata": {
        "id": "H0kj-8xxnORC"
      }
    },
    {
      "cell_type": "markdown",
      "source": [
        "**There are 14 features with 8760 rows of data.\n",
        "There are 3 categorical columns and 11 numerical columns. Columns ‘Date’, ‘Seasons’ and ‘Functioning Day’ are of 𝑜𝑏𝑗𝑒𝑐𝑡 data type\n",
        "Columns ‘Rented Bike Count’, ‘Hour’, ‘Humidity (%)’ and ‘Visibility (10𝑚)’ are of 𝑖𝑛𝑡64 numerical data type\n",
        "Columns ‘Temperature Temperature (℃)’, ‘Wind Speed (𝑚/𝑠)’, ‘Dew Point Temperature (℃)’,‘Solar Radiation (𝑀𝐽/𝑚2)’,‘Rainfall (𝑚𝑚)’ and ‘Snowfall(𝑐𝑚) are of 𝑓𝑙𝑜𝑎𝑡64 numerical data type\n",
        "Not any null value present in any column\n",
        "Unique count: Seasons- 4, Holiday- 2, Functioning Day- 2**"
      ],
      "metadata": {
        "id": "gfoNAAC-nUe_"
      }
    },
    {
      "cell_type": "markdown",
      "source": [
        "## ***2. Understanding Your Variables***"
      ],
      "metadata": {
        "id": "nA9Y7ga8ng1Z"
      }
    },
    {
      "cell_type": "code",
      "source": [
        "# Dataset Columns\n",
        "\n",
        "df.columns"
      ],
      "metadata": {
        "id": "j7xfkqrt5Ag5"
      },
      "execution_count": null,
      "outputs": []
    },
    {
      "cell_type": "code",
      "source": [
        "# Dataset Describe\n",
        "\n",
        "df.describe"
      ],
      "metadata": {
        "id": "DnOaZdaE5Q5t"
      },
      "execution_count": null,
      "outputs": []
    },
    {
      "cell_type": "markdown",
      "source": [
        "## Variables Description"
      ],
      "metadata": {
        "id": "PBTbrJXOngz2"
      }
    },
    {
      "cell_type": "markdown",
      "source": [
        "## *The ranges of values in the numerical columns seem reasonable too, so we may not have to do much data cleaning. The “Wind speed”,”Dew point temperature(°C)”, “Solar Radiation”, “Rainfall” and “Snowfall” column seems to be significantly skewed however, as the median (50 percentile) is much lower than the maximum value.*\n",
        "\n",
        "---\n",
        "\n",
        "\n",
        "\n",
        "```\n",
        "\n"
      ],
      "metadata": {
        "id": "aJV4KIxSnxay"
      }
    },
    {
      "cell_type": "markdown",
      "source": [
        "### Check Unique Values for each variable."
      ],
      "metadata": {
        "id": "u3PMJOP6ngxN"
      }
    },
    {
      "cell_type": "code",
      "source": [
        "# Check Unique Values for each variable.\n",
        "\n",
        "# Display unique values for each variable\n",
        "for column in df.columns:\n",
        "    unique_values = df[column].unique()\n",
        "    print(f\"Unique values for {column}:\\n{unique_values}\\n\")"
      ],
      "metadata": {
        "id": "zms12Yq5n-jE"
      },
      "execution_count": null,
      "outputs": []
    },
    {
      "cell_type": "markdown",
      "source": [
        "## 3. ***Data Wrangling***"
      ],
      "metadata": {
        "id": "dauF4eBmngu3"
      }
    },
    {
      "cell_type": "markdown",
      "source": [
        "### Data Wrangling Code"
      ],
      "metadata": {
        "id": "bKJF3rekwFvQ"
      }
    },
    {
      "cell_type": "code",
      "source": [
        "# Write your code to make your dataset analysis ready.\n",
        "\n",
        "# Display basic information about the DataFrame\n",
        "print(\"Initial DataFrame Info:\")\n",
        "print(df.info())\n",
        "\n",
        "# Display summary statistics of numeric columns\n",
        "print(\"\\nSummary Statistics:\")\n",
        "print(df.describe())\n",
        "\n",
        "# Check for missing values\n",
        "print(\"\\nMissing Values:\")\n",
        "print(df.isnull().sum())\n",
        "\n",
        "# Check for duplicate rows\n",
        "print(\"\\nDuplicate Rows:\")\n",
        "print(df.duplicated().sum())\n",
        "\n",
        "# Handle missing values (if needed)\n",
        "# Example: Drop rows with missing values\n",
        "df = df.dropna()\n",
        "\n",
        "# Handle duplicate rows (if needed)\n",
        "# Example: Drop duplicate rows\n",
        "df = df.drop_duplicates()\n",
        "\n",
        "# Convert data types (if needed)\n",
        "# Example: Convert a column to datetime format\n",
        "df['Date'] = pd.to_datetime(df['Date'])\n",
        "\n",
        "# Additional data cleaning and transformation steps can be added here\n",
        "\n",
        "# Display final information about the cleaned DataFrame\n",
        "print(\"\\nFinal DataFrame Info:\")\n",
        "print(df.info())"
      ],
      "metadata": {
        "id": "wk-9a2fpoLcV"
      },
      "execution_count": null,
      "outputs": []
    },
    {
      "cell_type": "code",
      "source": [
        "# we make the seperate columns for weekdays, date, month, year by 'Date'column.\n",
        "\n",
        "df['Weekday'] = df['Date'].dt.day_name()\n",
        "df['Day'] = df['Date'].dt.day\n",
        "df['Month'] = df['Date'].dt.month\n",
        "df['Year'] = df['Date'].dt.year\n",
        "\n"
      ],
      "metadata": {
        "id": "IRMbmcIGOhqT"
      },
      "execution_count": null,
      "outputs": []
    },
    {
      "cell_type": "code",
      "source": [
        "df['Weekday'] = df['Date'].dt.day_name()"
      ],
      "metadata": {
        "id": "cYu5JPjbfub4"
      },
      "execution_count": null,
      "outputs": []
    },
    {
      "cell_type": "code",
      "source": [
        "df['Weekday']"
      ],
      "metadata": {
        "id": "FnXmP4jBfztL"
      },
      "execution_count": null,
      "outputs": []
    },
    {
      "cell_type": "code",
      "source": [
        "df.drop('Date',axis=1)"
      ],
      "metadata": {
        "id": "4bPO_HNQf2ae"
      },
      "execution_count": null,
      "outputs": []
    },
    {
      "cell_type": "code",
      "source": [
        "df.head()"
      ],
      "metadata": {
        "id": "IiOLzqa-Qg2j"
      },
      "execution_count": null,
      "outputs": []
    },
    {
      "cell_type": "markdown",
      "source": [
        "### What all manipulations have you done and insights you found?"
      ],
      "metadata": {
        "id": "MSa1f5Uengrz"
      }
    },
    {
      "cell_type": "markdown",
      "source": [
        "I have Done Data Cleanin , Statistical Analysis:, After done this I found there is No any null values and dublicates values into the dataset.also i fix the data type of date to its real format.\n",
        "\n",
        "After Describe the Data its gives me lots of informative value of each column like what is min value, max value , and 25 percentile and 50 %tile."
      ],
      "metadata": {
        "id": "LbyXE7I1olp8"
      }
    },
    {
      "cell_type": "markdown",
      "source": [
        "## ***4. Data Vizualization, Storytelling & Experimenting with charts : Understand the relationships between variables***"
      ],
      "metadata": {
        "id": "GF8Ens_Soomf"
      }
    },
    {
      "cell_type": "markdown",
      "source": [
        "#### Chart - 1"
      ],
      "metadata": {
        "id": "0wOQAZs5pc--"
      }
    },
    {
      "cell_type": "code",
      "source": [
        "sns.pairplot(df)"
      ],
      "metadata": {
        "id": "B65MYyx7Ep_c"
      },
      "execution_count": null,
      "outputs": []
    },
    {
      "cell_type": "markdown",
      "source": [
        "##### 1. Why did you pick the specific chart?"
      ],
      "metadata": {
        "id": "K5QZ13OEpz2H"
      }
    },
    {
      "cell_type": "markdown",
      "source": [
        "This plot gives me the pair relation between all each other in one graph."
      ],
      "metadata": {
        "id": "XESiWehPqBRc"
      }
    },
    {
      "cell_type": "markdown",
      "source": [
        "##### 2. What is/are the insight(s) found from the chart?"
      ],
      "metadata": {
        "id": "lQ7QKXXCp7Bj"
      }
    },
    {
      "cell_type": "markdown",
      "source": [
        "The insights we found here is that"
      ],
      "metadata": {
        "id": "C_j1G7yiqdRP"
      }
    },
    {
      "cell_type": "markdown",
      "source": [
        "##### 3. Will the gained insights help creating a positive business impact?\n",
        "Are there any insights that lead to negative growth? Justify with specific reason."
      ],
      "metadata": {
        "id": "448CDAPjqfQr"
      }
    },
    {
      "cell_type": "markdown",
      "source": [
        "Answer Here"
      ],
      "metadata": {
        "id": "3cspy4FjqxJW"
      }
    },
    {
      "cell_type": "markdown",
      "source": [
        "#### Chart - 2"
      ],
      "metadata": {
        "id": "KSlN3yHqYklG"
      }
    },
    {
      "cell_type": "code",
      "source": [
        "# Chart - 2 visualization code\n",
        "\n",
        "plt.figure(figsize=(10,7))\n",
        "\n",
        "Month = df.groupby(['Month']).sum().reset_index()\n",
        "\n",
        "sns.barplot(x='Month', y ='Rented Bike Count', data= Month)\n",
        "\n",
        "\n",
        "\n"
      ],
      "metadata": {
        "id": "R4YgtaqtYklH"
      },
      "execution_count": null,
      "outputs": []
    },
    {
      "cell_type": "markdown",
      "source": [
        "##### 1. Why did you pick the specific chart?"
      ],
      "metadata": {
        "id": "t6dVpIINYklI"
      }
    },
    {
      "cell_type": "markdown",
      "source": [
        "Answer Here."
      ],
      "metadata": {
        "id": "5aaW0BYyYklI"
      }
    },
    {
      "cell_type": "markdown",
      "source": [
        "##### 2. What is/are the insight(s) found from the chart?"
      ],
      "metadata": {
        "id": "ijmpgYnKYklI"
      }
    },
    {
      "cell_type": "markdown",
      "source": [
        "Answer Here"
      ],
      "metadata": {
        "id": "PSx9atu2YklI"
      }
    },
    {
      "cell_type": "markdown",
      "source": [
        "##### 3. Will the gained insights help creating a positive business impact?\n",
        "Are there any insights that lead to negative growth? Justify with specific reason."
      ],
      "metadata": {
        "id": "-JiQyfWJYklI"
      }
    },
    {
      "cell_type": "markdown",
      "source": [
        "Answer Here"
      ],
      "metadata": {
        "id": "BcBbebzrYklV"
      }
    },
    {
      "cell_type": "markdown",
      "source": [
        "#### Chart - 3"
      ],
      "metadata": {
        "id": "EM7whBJCYoAo"
      }
    },
    {
      "cell_type": "code",
      "source": [
        "# Chart - 3 visualization code\n",
        "\n",
        "plt.figure(figsize=(16,10))\n",
        "\n",
        "Day = df.groupby(['Day']).sum().reset_index()\n",
        "\n",
        "sns.barplot(x='Day',y= 'Rented Bike Count', data=Day)"
      ],
      "metadata": {
        "id": "t6GMdE67YoAp"
      },
      "execution_count": null,
      "outputs": []
    },
    {
      "cell_type": "markdown",
      "source": [
        "##### 1. Why did you pick the specific chart?"
      ],
      "metadata": {
        "id": "fge-S5ZAYoAp"
      }
    },
    {
      "cell_type": "markdown",
      "source": [
        "Answer Here."
      ],
      "metadata": {
        "id": "5dBItgRVYoAp"
      }
    },
    {
      "cell_type": "markdown",
      "source": [
        "##### 2. What is/are the insight(s) found from the chart?"
      ],
      "metadata": {
        "id": "85gYPyotYoAp"
      }
    },
    {
      "cell_type": "markdown",
      "source": [
        "Answer Here"
      ],
      "metadata": {
        "id": "4jstXR6OYoAp"
      }
    },
    {
      "cell_type": "markdown",
      "source": [
        "##### 3. Will the gained insights help creating a positive business impact?\n",
        "Are there any insights that lead to negative growth? Justify with specific reason."
      ],
      "metadata": {
        "id": "RoGjAbkUYoAp"
      }
    },
    {
      "cell_type": "markdown",
      "source": [
        "Answer Here"
      ],
      "metadata": {
        "id": "zfJ8IqMcYoAp"
      }
    },
    {
      "cell_type": "markdown",
      "source": [
        "#### Chart - 4"
      ],
      "metadata": {
        "id": "4Of9eVA-YrdM"
      }
    },
    {
      "cell_type": "code",
      "source": [
        "# Chart - 4 visualization code\n",
        "plt.figure(figsize=(13,7))\n",
        "Hour = df.groupby(\"Hour\").sum().reset_index()\n",
        "sns.barplot(x=\"Hour\", y=\"Rented Bike Count\", data=Hour)"
      ],
      "metadata": {
        "id": "irlUoxc8YrdO"
      },
      "execution_count": null,
      "outputs": []
    },
    {
      "cell_type": "markdown",
      "source": [
        "##### 1. Why did you pick the specific chart?"
      ],
      "metadata": {
        "id": "iky9q4vBYrdO"
      }
    },
    {
      "cell_type": "markdown",
      "source": [
        "Answer Here."
      ],
      "metadata": {
        "id": "aJRCwT6DYrdO"
      }
    },
    {
      "cell_type": "markdown",
      "source": [
        "##### 2. What is/are the insight(s) found from the chart?"
      ],
      "metadata": {
        "id": "F6T5p64dYrdO"
      }
    },
    {
      "cell_type": "markdown",
      "source": [
        "Answer Here"
      ],
      "metadata": {
        "id": "Xx8WAJvtYrdO"
      }
    },
    {
      "cell_type": "markdown",
      "source": [
        "##### 3. Will the gained insights help creating a positive business impact?\n",
        "Are there any insights that lead to negative growth? Justify with specific reason."
      ],
      "metadata": {
        "id": "y-Ehk30pYrdP"
      }
    },
    {
      "cell_type": "markdown",
      "source": [
        "Answer Here"
      ],
      "metadata": {
        "id": "jLNxxz7MYrdP"
      }
    },
    {
      "cell_type": "markdown",
      "source": [
        "#### Chart - 5"
      ],
      "metadata": {
        "id": "bamQiAODYuh1"
      }
    },
    {
      "cell_type": "code",
      "source": [
        "# Chart - 5 visualization code\n",
        "\n",
        "plt.figure(figsize=(10,7))\n",
        "\n",
        "sns.barplot(x='Holiday',y='Rented Bike Count',data=df)"
      ],
      "metadata": {
        "id": "TIJwrbroYuh3"
      },
      "execution_count": null,
      "outputs": []
    },
    {
      "cell_type": "code",
      "source": [
        "plt.figure(figsize=(10,7))\n",
        "sns.barplot(x=\"Seasons\", y=\"Rented Bike Count\", data=df)"
      ],
      "metadata": {
        "id": "sS9dZmLKk8xD"
      },
      "execution_count": null,
      "outputs": []
    },
    {
      "cell_type": "code",
      "source": [
        "plt.figure(figsize=(40,7))\n",
        "sns.barplot(x=\"Rainfall(mm)\", y=\"Rented Bike Count\", data=df)"
      ],
      "metadata": {
        "id": "6jB9qYjPpft4"
      },
      "execution_count": null,
      "outputs": []
    },
    {
      "cell_type": "code",
      "source": [
        "plt.figure(figsize=(40,7))\n",
        "\n",
        "sns.barplot(x=\"Snowfall (cm)\", y=\"Rented Bike Count\", data=df)"
      ],
      "metadata": {
        "id": "IXNjtOsJp1nh"
      },
      "execution_count": null,
      "outputs": []
    },
    {
      "cell_type": "markdown",
      "source": [
        "##### 1. Why did you pick the specific chart?"
      ],
      "metadata": {
        "id": "QHF8YVU7Yuh3"
      }
    },
    {
      "cell_type": "markdown",
      "source": [
        "Answer Here."
      ],
      "metadata": {
        "id": "dcxuIMRPYuh3"
      }
    },
    {
      "cell_type": "markdown",
      "source": [
        "##### 2. What is/are the insight(s) found from the chart?"
      ],
      "metadata": {
        "id": "GwzvFGzlYuh3"
      }
    },
    {
      "cell_type": "markdown",
      "source": [
        "Answer Here"
      ],
      "metadata": {
        "id": "uyqkiB8YYuh3"
      }
    },
    {
      "cell_type": "markdown",
      "source": [
        "##### 3. Will the gained insights help creating a positive business impact?\n",
        "Are there any insights that lead to negative growth? Justify with specific reason."
      ],
      "metadata": {
        "id": "qYpmQ266Yuh3"
      }
    },
    {
      "cell_type": "markdown",
      "source": [
        "Answer Here"
      ],
      "metadata": {
        "id": "_WtzZ_hCYuh4"
      }
    },
    {
      "cell_type": "markdown",
      "source": [
        "#### Chart - 6"
      ],
      "metadata": {
        "id": "OH-pJp9IphqM"
      }
    },
    {
      "cell_type": "code",
      "source": [
        "# Chart - 6 visualization cod\n",
        "plt.figure(figsize=(40,7))\n",
        "\n",
        "sns.displot(df['Rented Bike Count'])"
      ],
      "metadata": {
        "id": "kuRf4wtuphqN"
      },
      "execution_count": null,
      "outputs": []
    },
    {
      "cell_type": "code",
      "source": [
        "sns.displot(np.sqrt(df[\"Rented Bike Count\"]))"
      ],
      "metadata": {
        "id": "pcbR3Skg9sQq"
      },
      "execution_count": null,
      "outputs": []
    },
    {
      "cell_type": "markdown",
      "source": [
        "##### 1. Why did you pick the specific chart?"
      ],
      "metadata": {
        "id": "bbFf2-_FphqN"
      }
    },
    {
      "cell_type": "markdown",
      "source": [
        "Answer Here."
      ],
      "metadata": {
        "id": "loh7H2nzphqN"
      }
    },
    {
      "cell_type": "markdown",
      "source": [
        "##### 2. What is/are the insight(s) found from the chart?"
      ],
      "metadata": {
        "id": "_ouA3fa0phqN"
      }
    },
    {
      "cell_type": "markdown",
      "source": [
        "Answer Here"
      ],
      "metadata": {
        "id": "VECbqPI7phqN"
      }
    },
    {
      "cell_type": "markdown",
      "source": [
        "##### 3. Will the gained insights help creating a positive business impact?\n",
        "Are there any insights that lead to negative growth? Justify with specific reason."
      ],
      "metadata": {
        "id": "Seke61FWphqN"
      }
    },
    {
      "cell_type": "markdown",
      "source": [
        "Answer Here"
      ],
      "metadata": {
        "id": "DW4_bGpfphqN"
      }
    },
    {
      "cell_type": "code",
      "source": [
        "## Skewed Data"
      ],
      "metadata": {
        "id": "IQ6wJJ9sASSE"
      },
      "execution_count": null,
      "outputs": []
    },
    {
      "cell_type": "markdown",
      "source": [
        "##   Skewed Data"
      ],
      "metadata": {
        "id": "6CZKMVG0Bg6h"
      }
    },
    {
      "cell_type": "code",
      "source": [
        "df.skew().sort_values(ascending=True)"
      ],
      "metadata": {
        "id": "yDNhT6rpAl2Z"
      },
      "execution_count": null,
      "outputs": []
    },
    {
      "cell_type": "markdown",
      "source": [
        "# Remove Multicolinearity"
      ],
      "metadata": {
        "id": "THioY28FBtvR"
      }
    },
    {
      "cell_type": "code",
      "source": [
        "# Remove Multicolinearity\n",
        "\n",
        "plt.figure(figsize=(25,25))\n",
        "\n",
        "sns.heatmap(df.corr(),annot=True, cmap = 'coolwarm')"
      ],
      "metadata": {
        "id": "HYTqW_fDBOa5"
      },
      "execution_count": null,
      "outputs": []
    },
    {
      "cell_type": "markdown",
      "source": [
        "## **Varinace Inflation Factor (VIF)**"
      ],
      "metadata": {
        "id": "_nePIhvTe5qT"
      }
    },
    {
      "cell_type": "markdown",
      "source": [
        "VIF is showing which features multi-collinearity."
      ],
      "metadata": {
        "id": "pxCs0tKegMph"
      }
    },
    {
      "cell_type": "code",
      "source": [
        "def get_vif(df):\n",
        "    vif = pd.DataFrame()\n",
        "    vif[\"variables\"] = df.columns\n",
        "    vif[\"VIF\"] = [ variance_inflation_factor(df.values, i) for i in range(df.shape[1])]\n",
        "\n",
        "    return vif"
      ],
      "metadata": {
        "id": "igkjOkaAfNpX"
      },
      "execution_count": null,
      "outputs": []
    },
    {
      "cell_type": "code",
      "source": [
        "not_for_vif = [ \"Day\", \"Month\", \"Year\", \"Rented Bike Count\"]\n",
        "\n",
        "get_vif(df[[i for i in df.describe().columns if i not in not_for_vif]])"
      ],
      "metadata": {
        "id": "8CDSSMTPfaS8"
      },
      "execution_count": null,
      "outputs": []
    },
    {
      "cell_type": "markdown",
      "source": [
        "### Dew point temperature(°C) is showing high collinearity with the Temp but if would take one of them, we take Temperature columns here bacause the co-relation between the 'Temperature' and the dependent variable 'Rented Bike Counts' is More than the Dew point temperature(°C)."
      ],
      "metadata": {
        "id": "ekp7xkCxhd77"
      }
    },
    {
      "cell_type": "code",
      "source": [
        "not_for_vif = [ \"Day\", \"Month\", \"Year\", \"Rented Bike Count\", \"Dew point temperature(°C)\"]\n",
        "\n",
        "get_vif(df[[i for i in df.describe().columns if i not in not_for_vif]])"
      ],
      "metadata": {
        "id": "6FAXRjeqfZ1p"
      },
      "execution_count": null,
      "outputs": []
    },
    {
      "cell_type": "code",
      "source": [
        "df.drop([\"Dew point temperature(°C)\"], axis=1, inplace=True)"
      ],
      "metadata": {
        "id": "ZZhez7D8maZP"
      },
      "execution_count": null,
      "outputs": []
    },
    {
      "cell_type": "markdown",
      "source": [
        "# **Encoding**"
      ],
      "metadata": {
        "id": "4X95gXrEmgue"
      }
    },
    {
      "cell_type": "code",
      "source": [
        "df.info()"
      ],
      "metadata": {
        "id": "aWa8v5X-ml4T"
      },
      "execution_count": null,
      "outputs": []
    },
    {
      "cell_type": "markdown",
      "source": [
        "### Catagorical Features"
      ],
      "metadata": {
        "id": "5OObkrylmr2k"
      }
    },
    {
      "cell_type": "code",
      "source": [
        "cat_features = [\"Seasons\", \"Holiday\", \"Functioning Day\", \"weekday\"]"
      ],
      "metadata": {
        "id": "XyUok3nJml0l"
      },
      "execution_count": null,
      "outputs": []
    },
    {
      "cell_type": "markdown",
      "source": [
        "### Value-Count of each Catagorical features."
      ],
      "metadata": {
        "id": "OaWe4Uaqm96R"
      }
    },
    {
      "cell_type": "code",
      "source": [
        "df[\"Holiday\"].value_counts()"
      ],
      "metadata": {
        "id": "SDjcWNg0mlb-"
      },
      "execution_count": null,
      "outputs": []
    },
    {
      "cell_type": "code",
      "source": [
        "df[\"Functioning Day\"].value_counts()"
      ],
      "metadata": {
        "id": "I88vRxFYmlYB"
      },
      "execution_count": null,
      "outputs": []
    },
    {
      "cell_type": "code",
      "source": [
        "df[\"Seasons\"].value_counts()"
      ],
      "metadata": {
        "id": "TRvJXdlAmlUI"
      },
      "execution_count": null,
      "outputs": []
    },
    {
      "cell_type": "code",
      "source": [
        "df.columns"
      ],
      "metadata": {
        "id": "T7iTrykoBjmc"
      },
      "execution_count": null,
      "outputs": []
    },
    {
      "cell_type": "code",
      "source": [
        "df[\"weekday\"] = pd.to_datetime(df[\"Date\"]).dt.day_name()"
      ],
      "metadata": {
        "id": "omR1v0JJB1My"
      },
      "execution_count": null,
      "outputs": []
    },
    {
      "cell_type": "code",
      "source": [
        "df[\"weekday\"].value_counts()"
      ],
      "metadata": {
        "id": "VSSXpxBrmlQH"
      },
      "execution_count": null,
      "outputs": []
    },
    {
      "cell_type": "code",
      "source": [
        "df[\"weekday\"].value_counts()"
      ],
      "metadata": {
        "id": "Xo0-P3oymlMB"
      },
      "execution_count": null,
      "outputs": []
    },
    {
      "cell_type": "code",
      "source": [
        "df.drop(\"Date\", axis=1, inplace=True)"
      ],
      "metadata": {
        "id": "-DJpANIYmlHL"
      },
      "execution_count": null,
      "outputs": []
    },
    {
      "cell_type": "code",
      "source": [
        "df[\"weekday\"].value_counts()"
      ],
      "metadata": {
        "id": "sveOAEIQhQjl"
      },
      "execution_count": null,
      "outputs": []
    },
    {
      "cell_type": "markdown",
      "source": [
        "### Map the Binary catagorical values into 0 and 1."
      ],
      "metadata": {
        "id": "ssiEtgRlhwpH"
      }
    },
    {
      "cell_type": "code",
      "source": [
        "df[\"Holiday\"] = df[\"Holiday\"].map({\"No Holiday\":0, \"Holiday\":1})\n",
        "df[\"Functioning Day\"] = df[\"Functioning Day\"].map({\"No\":0, \"Yes\":1})"
      ],
      "metadata": {
        "id": "QOwJlWavil4z"
      },
      "execution_count": null,
      "outputs": []
    },
    {
      "cell_type": "markdown",
      "source": [
        "### Take the dummies of these variables"
      ],
      "metadata": {
        "id": "7y6HaaG8ip7i"
      }
    },
    {
      "cell_type": "code",
      "source": [
        "df_season = pd.get_dummies(df[\"Seasons\"], drop_first = True)\n",
        "df_weekday = pd.get_dummies(df[\"weekday\"], drop_first = True)"
      ],
      "metadata": {
        "id": "NFdoVtNDizTZ"
      },
      "execution_count": null,
      "outputs": []
    },
    {
      "cell_type": "code",
      "source": [
        "df.info()"
      ],
      "metadata": {
        "id": "JXaiCxuqi-Yw"
      },
      "execution_count": null,
      "outputs": []
    },
    {
      "cell_type": "markdown",
      "source": [
        "## Now join the dummy variables into the our main data frame."
      ],
      "metadata": {
        "id": "ltQwxZ80jPgG"
      }
    },
    {
      "cell_type": "code",
      "source": [
        "df = pd.concat([df, df_season, df_weekday], axis=1)"
      ],
      "metadata": {
        "id": "xII4Vc0yjNRM"
      },
      "execution_count": null,
      "outputs": []
    },
    {
      "cell_type": "code",
      "source": [
        "df.info()"
      ],
      "metadata": {
        "id": "qY7sLGaXjlsw"
      },
      "execution_count": null,
      "outputs": []
    },
    {
      "cell_type": "code",
      "source": [
        "df.drop([\"Seasons\", \"weekday\"], axis=1, inplace=True)"
      ],
      "metadata": {
        "id": "GEb5yoqTjtef"
      },
      "execution_count": null,
      "outputs": []
    },
    {
      "cell_type": "code",
      "source": [
        "df.info()"
      ],
      "metadata": {
        "id": "EMzlf7SYjw7b"
      },
      "execution_count": null,
      "outputs": []
    },
    {
      "cell_type": "code",
      "source": [
        "df.head()"
      ],
      "metadata": {
        "id": "9Ni8i1fLj00-"
      },
      "execution_count": null,
      "outputs": []
    },
    {
      "cell_type": "code",
      "source": [
        "df.columns"
      ],
      "metadata": {
        "id": "6W8hrwHej8J1"
      },
      "execution_count": null,
      "outputs": []
    },
    {
      "cell_type": "code",
      "source": [
        "\n",
        "df.shape"
      ],
      "metadata": {
        "id": "W6MoDn7qj4SN"
      },
      "execution_count": null,
      "outputs": []
    },
    {
      "cell_type": "code",
      "source": [
        "df.drop('Weekday',axis=1,inplace=True)"
      ],
      "metadata": {
        "id": "Pv78iFiduNmN"
      },
      "execution_count": null,
      "outputs": []
    },
    {
      "cell_type": "code",
      "source": [
        "\n",
        "df.shape"
      ],
      "metadata": {
        "id": "H6gTf8kQuviH"
      },
      "execution_count": null,
      "outputs": []
    },
    {
      "cell_type": "markdown",
      "source": [
        "# **Split the Data For Traning and Testing**\n",
        "\n",
        "---\n",
        "\n"
      ],
      "metadata": {
        "id": "Li4LXbOXkNE0"
      }
    },
    {
      "cell_type": "code",
      "source": [
        "X = df.drop(\"Rented Bike Count\", axis=1)\n",
        "y = df[\"Rented Bike Count\"]\n",
        "\n",
        "X_train, X_test, y_train, y_test = train_test_split(X, y, test_size=0.2, random_state=2023)\n",
        "\n",
        "print(\"Shape of X_train : \", X_train.shape)\n",
        "print(\"Shape of y_train : \", y_train.shape)\n",
        "print(\"Shape of X_test : \", X_test.shape)\n",
        "print(\"Shape of y_test : \", y_test.shape)"
      ],
      "metadata": {
        "id": "pnmX-qwPkK6U"
      },
      "execution_count": null,
      "outputs": []
    },
    {
      "cell_type": "markdown",
      "source": [
        "## **Scaling**"
      ],
      "metadata": {
        "id": "ojOuAWwTmB2d"
      }
    },
    {
      "cell_type": "code",
      "source": [
        "from sklearn.preprocessing import StandardScaler"
      ],
      "metadata": {
        "id": "K9GNsQsvmcto"
      },
      "execution_count": null,
      "outputs": []
    },
    {
      "cell_type": "code",
      "source": [
        "sc = StandardScaler()\n",
        "sc.fit(X_train)\n",
        "\n",
        "X_train = sc.transform(X_train)\n",
        "X_test = sc.transform(X_test)"
      ],
      "metadata": {
        "id": "NW0M4eChkK3V"
      },
      "execution_count": null,
      "outputs": []
    },
    {
      "cell_type": "code",
      "source": [
        "X_train[:2]"
      ],
      "metadata": {
        "id": "GC9GWhNOkKze"
      },
      "execution_count": null,
      "outputs": []
    },
    {
      "cell_type": "code",
      "source": [
        "sc.mean_"
      ],
      "metadata": {
        "id": "2tz1DHwekKvD"
      },
      "execution_count": null,
      "outputs": []
    },
    {
      "cell_type": "code",
      "source": [
        "sc.scale_"
      ],
      "metadata": {
        "id": "-kW6u5OMkKpv"
      },
      "execution_count": null,
      "outputs": []
    },
    {
      "cell_type": "markdown",
      "source": [
        "# Traning ML Model"
      ],
      "metadata": {
        "id": "oSLDDiwwkDYR"
      }
    },
    {
      "cell_type": "code",
      "source": [
        "from sklearn.linear_model import LinearRegression"
      ],
      "metadata": {
        "id": "Cu72qGsGkKmc"
      },
      "execution_count": null,
      "outputs": []
    },
    {
      "cell_type": "code",
      "source": [
        "lr = LinearRegression()\n",
        "lr.fit(X_train,y_train)"
      ],
      "metadata": {
        "id": "55fIC0SskKi9"
      },
      "execution_count": null,
      "outputs": []
    },
    {
      "cell_type": "code",
      "source": [
        "y_pred = lr.predict(X_test)"
      ],
      "metadata": {
        "id": "PkoBHY-PkKe_"
      },
      "execution_count": null,
      "outputs": []
    },
    {
      "cell_type": "code",
      "source": [
        "y_pred"
      ],
      "metadata": {
        "id": "uVIq0bZSkKZI"
      },
      "execution_count": null,
      "outputs": []
    },
    {
      "cell_type": "code",
      "source": [],
      "metadata": {
        "id": "dJn8I-C4kKN3"
      },
      "execution_count": null,
      "outputs": []
    },
    {
      "cell_type": "markdown",
      "source": [
        "# **Model Evaluation**"
      ],
      "metadata": {
        "id": "k8NtaZyho4yD"
      }
    },
    {
      "cell_type": "code",
      "source": [
        "from sklearn.metrics import mean_squared_error, mean_absolute_error, r2_score"
      ],
      "metadata": {
        "id": "d_opEEQAo_90"
      },
      "execution_count": null,
      "outputs": []
    },
    {
      "cell_type": "code",
      "source": [
        "MSE = mean_squared_error(y_test, y_pred)\n",
        "RMSE = np.sqrt(MSE)\n",
        "MAE = mean_absolute_error(y_test, y_pred)\n",
        "R2 = r2_score(y_test, y_pred)\n",
        "\n",
        "print(f\"MSE : {MSE}\")\n",
        "print(f\"RMSE : {RMSE}\")\n",
        "print(f\"MAE : {MAE}\")\n",
        "print(f\"R2 : {R2}\")"
      ],
      "metadata": {
        "id": "6SFg8dyuo_6_"
      },
      "execution_count": null,
      "outputs": []
    },
    {
      "cell_type": "markdown",
      "source": [
        "### Make permanent function so that we can find  mean_squared_error, mean_absolute_error, r2_score for each model at a time."
      ],
      "metadata": {
        "id": "UXHV9m1nr0ab"
      }
    },
    {
      "cell_type": "code",
      "source": [
        "def get_metrics(y_true, y_pred, model_name):\n",
        "    MSE = mean_squared_error(y_test, y_pred)\n",
        "    RMSE = np.sqrt(MSE)\n",
        "    MAE = mean_absolute_error(y_test, y_pred)\n",
        "    R2 = r2_score(y_test, y_pred)\n",
        "\n",
        "    print(f\"{model_name} : ['MSE': {round(MSE,3)}, 'RMSE':{round(RMSE,3)}, 'MAE' :{round(MAE,3)}, 'R2':{round(R2,3)}]\")"
      ],
      "metadata": {
        "id": "ZqDUAMXKo_4D"
      },
      "execution_count": null,
      "outputs": []
    },
    {
      "cell_type": "code",
      "source": [
        "get_metrics(y_test, y_pred, \"LinearRegression\")"
      ],
      "metadata": {
        "id": "vBuEndBBvKiA"
      },
      "execution_count": null,
      "outputs": []
    },
    {
      "cell_type": "markdown",
      "source": [
        "# **Train Multiple Models**"
      ],
      "metadata": {
        "id": "-dXrXZ_YvaQj"
      }
    },
    {
      "cell_type": "markdown",
      "source": [
        "### ***Now we train multiple models and find which model accuracy is good.***"
      ],
      "metadata": {
        "id": "n5xxB_X0vnXN"
      }
    },
    {
      "cell_type": "code",
      "source": [
        "!pip install xgboost"
      ],
      "metadata": {
        "id": "IbWcI0DGvZKU"
      },
      "execution_count": null,
      "outputs": []
    },
    {
      "cell_type": "code",
      "source": [
        "from sklearn.linear_model import Ridge, Lasso\n",
        "from sklearn.preprocessing import PolynomialFeatures\n",
        "from sklearn.svm import SVR\n",
        "from sklearn.neighbors import KNeighborsRegressor\n",
        "from sklearn.tree import DecisionTreeRegressor\n",
        "from sklearn.ensemble import RandomForestRegressor\n",
        "from xgboost import XGBRegressor"
      ],
      "metadata": {
        "id": "TxVN3F_ovZHE"
      },
      "execution_count": null,
      "outputs": []
    },
    {
      "cell_type": "code",
      "source": [
        "rir = Ridge().fit(X_train, y_train)\n",
        "y_pred_rir = rir.predict(X_test)\n",
        "\n",
        "lar = Lasso().fit(X_train, y_train)\n",
        "y_pred_lar = lar.predict(X_test)\n",
        "\n",
        "poly = PolynomialFeatures(2)\n",
        "X_train_poly = poly.fit_transform(X_train)\n",
        "X_test_poly = poly.fit_transform(X_test)\n",
        "\n",
        "poly_r = LinearRegression().fit(X_train_poly, y_train)\n",
        "y_pred_poly = poly_r.predict(X_test_poly)\n",
        "\n",
        "svr = SVR().fit(X_train, y_train)\n",
        "y_pred_svr = svr.predict(X_test)\n",
        "\n",
        "knnr = KNeighborsRegressor().fit(X_train, y_train)\n",
        "y_pred_knnr = knnr.predict(X_test)\n",
        "\n",
        "dtr = DecisionTreeRegressor().fit(X_train, y_train)\n",
        "y_pred_dtr = dtr.predict(X_test)\n",
        "\n",
        "rfr = RandomForestRegressor().fit(X_train, y_train)\n",
        "y_pred_rfr = rfr.predict(X_test)\n",
        "\n",
        "xgbr = XGBRegressor().fit(X_train, y_train)\n",
        "y_pred_xgbr = xgbr.predict(X_test)"
      ],
      "metadata": {
        "id": "u3azC_P9vZEI"
      },
      "execution_count": null,
      "outputs": []
    },
    {
      "cell_type": "code",
      "source": [
        "get_metrics(y_test, y_pred_rir, \"Ridge\")\n",
        "get_metrics(y_test, y_pred_lar, \"Lasso\")\n",
        "get_metrics(y_test, y_pred_poly, \"PolynomialFeatures\")\n",
        "get_metrics(y_test, y_pred_svr, \"SVR\")\n",
        "get_metrics(y_test, y_pred_knnr, \"KNNR\")\n",
        "get_metrics(y_test, y_pred_dtr, \"DecisionTreeRegressor\")\n",
        "get_metrics(y_test, y_pred_rfr, \"RandomForestRegressor\")\n",
        "get_metrics(y_test, y_pred_xgbr, \"XGBRegressor\")"
      ],
      "metadata": {
        "id": "YTpiwEOLvZBE"
      },
      "execution_count": null,
      "outputs": []
    },
    {
      "cell_type": "markdown",
      "source": [
        "## Here we Find two best Models that is Random Forest Regressor and XG Boost. so we have to consider which model we would take."
      ],
      "metadata": {
        "id": "x-3rZlIc2hrE"
      }
    },
    {
      "cell_type": "markdown",
      "source": [
        "# **Visualise Model Prediction**"
      ],
      "metadata": {
        "id": "j9gJkHTv3HXY"
      }
    },
    {
      "cell_type": "markdown",
      "source": [
        "**Linear Regression model**"
      ],
      "metadata": {
        "id": "lJb_LBnX3h4Y"
      }
    },
    {
      "cell_type": "code",
      "source": [
        "plt.scatter(y_test, y_pred)\n",
        "plt.title(\"Linear Regression Truth vs Prediction \")\n",
        "plt.xlabel(\"Ground Truth\")\n",
        "plt.ylabel(\"Prediction\")\n",
        "plt.show()"
      ],
      "metadata": {
        "id": "6MSdHzL13Z-5"
      },
      "execution_count": null,
      "outputs": []
    },
    {
      "cell_type": "markdown",
      "source": [
        "**Random Forest Regressor**"
      ],
      "metadata": {
        "id": "4_CgN1oj3vWP"
      }
    },
    {
      "cell_type": "code",
      "source": [
        "plt.scatter(y_test, y_pred_rfr)\n",
        "plt.title(\"Random Forest Regressor Truth vs Prediction \")\n",
        "plt.xlabel(\"Ground Truth\")\n",
        "plt.ylabel(\"Prediction\")\n",
        "plt.show()"
      ],
      "metadata": {
        "id": "ibdOfNj6vY9r"
      },
      "execution_count": null,
      "outputs": []
    },
    {
      "cell_type": "markdown",
      "source": [
        "### **XGB Regressor**"
      ],
      "metadata": {
        "id": "LEh0qhv34HK5"
      }
    },
    {
      "cell_type": "code",
      "source": [
        "plt.scatter(y_test, y_pred_xgbr)\n",
        "plt.title(\"XGB Regressor Truth vs Prediction \")\n",
        "plt.xlabel(\"Ground Truth\")\n",
        "plt.ylabel(\"Prediction\")\n",
        "plt.show()"
      ],
      "metadata": {
        "id": "_uBimyS1vY3L"
      },
      "execution_count": null,
      "outputs": []
    },
    {
      "cell_type": "markdown",
      "source": [
        "# **Hyperparameter Tuning for XGBoost Regressor**"
      ],
      "metadata": {
        "id": "aPom6U8Z1ogh"
      }
    },
    {
      "cell_type": "markdown",
      "source": [],
      "metadata": {
        "id": "heVlTNCf2hCI"
      }
    },
    {
      "cell_type": "code",
      "source": [
        "from sklearn.model_selection import RandomizedSearchCV\n",
        "\n",
        "import time\n",
        "start_time = time.time()\n",
        "\n",
        "params = { 'max_depth': [3, 5, 6, 10, 15, 20],\n",
        "           'learning_rate': [0.01, 0.1, 0.2, 0.3],\n",
        "           'subsample': np.arange(0.5, 1.0, 0.1),\n",
        "           'colsample_bytree': np.arange(0.4, 1.0, 0.1),\n",
        "           'colsample_bylevel': np.arange(0.4, 1.0, 0.1),\n",
        "           'n_estimators': [100, 500, 1000]}\n",
        "\n",
        "\n",
        "xgbr = XGBRegressor(seed = 20)\n",
        "rscv = RandomizedSearchCV(estimator=xgbr,\n",
        "                         param_distributions=params,\n",
        "                         scoring='neg_mean_squared_error',\n",
        "                         n_iter=25,\n",
        "                          cv=5,\n",
        "                         verbose=1)\n",
        "\n",
        "rscv.fit(X_train, y_train)\n",
        "\n",
        "y_pred_xgb_random = rscv.predict(X_test)\n",
        "\n",
        "get_metrics(y_test, y_pred_xgb_random, \"XGBRegressor With Best Parameters\")\n",
        "\n",
        "print(\"Time taken to training using randomize search : \", time.time()-start_time)\n",
        "\n",
        "print(\"Best parameters:\", rscv.best_params_)"
      ],
      "metadata": {
        "id": "P213BKiC1oJT"
      },
      "execution_count": null,
      "outputs": []
    },
    {
      "cell_type": "code",
      "source": [
        "xgbr = XGBRegressor(subsample=0.6,\n",
        "                   n_estimators=1000,\n",
        "                   max_depth=6,\n",
        "                   learning_rate=0.1,\n",
        "                   colsample_bytree=0.7,\n",
        "                   colsample_bylevel=0.4,\n",
        "                   seed = 20)\n",
        "\n",
        "xgbr.fit(X_train, y_train)\n",
        "\n",
        "y_pred_tuned = xgbr.predict(X_test)\n",
        "\n",
        "get_metrics(y_test, y_pred_tuned, \"XGBRegressor With Best Parameters\")"
      ],
      "metadata": {
        "id": "K8krN90a5l1h"
      },
      "execution_count": null,
      "outputs": []
    },
    {
      "cell_type": "code",
      "source": [],
      "metadata": {
        "id": "18xWTq1B5nU3"
      },
      "execution_count": null,
      "outputs": []
    }
  ]
}